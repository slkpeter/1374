{
 "cells": [
  {
   "cell_type": "code",
   "execution_count": 67,
   "metadata": {},
   "outputs": [
    {
     "name": "stdout",
     "output_type": "stream",
     "text": [
      "Requirement already satisfied: boto3 in /home/peter/snap/jupyter/common/lib/python3.7/site-packages (1.16.4)\n",
      "Requirement already satisfied: jmespath<1.0.0,>=0.7.1 in /home/peter/snap/jupyter/common/lib/python3.7/site-packages (from boto3) (0.10.0)\n",
      "Requirement already satisfied: botocore<1.20.0,>=1.19.4 in /home/peter/snap/jupyter/common/lib/python3.7/site-packages (from boto3) (1.19.4)\n",
      "Requirement already satisfied: s3transfer<0.4.0,>=0.3.0 in /home/peter/snap/jupyter/common/lib/python3.7/site-packages (from boto3) (0.3.3)\n",
      "Requirement already satisfied: python-dateutil<3.0.0,>=2.1 in /snap/jupyter/6/lib/python3.7/site-packages (from botocore<1.20.0,>=1.19.4->boto3) (2.8.0)\n",
      "Requirement already satisfied: urllib3<1.26,>=1.25.4; python_version != \"3.4\" in /home/peter/snap/jupyter/common/lib/python3.7/site-packages (from botocore<1.20.0,>=1.19.4->boto3) (1.25.11)\n",
      "Requirement already satisfied: six>=1.5 in /snap/jupyter/6/lib/python3.7/site-packages (from python-dateutil<3.0.0,>=2.1->botocore<1.20.0,>=1.19.4->boto3) (1.12.0)\n",
      "Note: you may need to restart the kernel to use updated packages.\n"
     ]
    }
   ],
   "source": [
    "pip install boto3"
   ]
  },
  {
   "cell_type": "code",
   "execution_count": 68,
   "metadata": {},
   "outputs": [],
   "source": [
    "import boto3"
   ]
  },
  {
   "cell_type": "code",
   "execution_count": 69,
   "metadata": {},
   "outputs": [
    {
     "data": {
      "text/plain": [
       "'1.16.4'"
      ]
     },
     "execution_count": 69,
     "metadata": {},
     "output_type": "execute_result"
    }
   ],
   "source": [
    "boto3.__version__"
   ]
  },
  {
   "cell_type": "markdown",
   "metadata": {},
   "source": [
    "Source: https://aws.amazon.com/de/getting-started/hands-on/backup-to-s3-cli/\n",
    "# Einrichten awscli auf lokaler Konsole\n",
    "sudo apt install awscli\n",
    "# Welche Version?\n",
    "aws --version\n",
    "\n",
    "Man kann von V1 auf V2 migirieren.\n",
    "Bei mir ist momentan V1.18.69 installiert.\n",
    "\n",
    "Source: https://docs.aws.amazon.com/de_de/cli/latest/userguide/cli-chap-install.html#install-bundle-other-os\n",
    "\n",
    "# Konfigurieren\n",
    "aws configure\n",
    "-> Eingeben von Key und geheim Key\n",
    "-> eingeben von default region name (eu-central-1) und output format (json)\n",
    "\n",
    "in ~/.aws sind zwei dateien hinzugefügt: config und credentials\n"
   ]
  },
  {
   "cell_type": "code",
   "execution_count": 70,
   "metadata": {},
   "outputs": [],
   "source": [
    "AWS_KEY_ID=key\n",
    "AWS_SECRET=secret"
   ]
  },
  {
   "cell_type": "code",
   "execution_count": 72,
   "metadata": {},
   "outputs": [
    {
     "data": {
      "text/plain": [
       "{'ResponseMetadata': {'RequestId': '2EE71667B0E14EDF',\n",
       "  'HostId': 'Q4viRdF4nznGIqzvzbYTfyGikKSfC9qCyhvGVLbvbwoW1oWkfiZF0mBV1TN17vVtz33bWctzJIk=',\n",
       "  'HTTPStatusCode': 200,\n",
       "  'HTTPHeaders': {'x-amz-id-2': 'Q4viRdF4nznGIqzvzbYTfyGikKSfC9qCyhvGVLbvbwoW1oWkfiZF0mBV1TN17vVtz33bWctzJIk=',\n",
       "   'x-amz-request-id': '2EE71667B0E14EDF',\n",
       "   'date': 'Mon, 26 Oct 2020 19:27:44 GMT',\n",
       "   'location': 'http://peckert-1374.s3.amazonaws.com/',\n",
       "   'content-length': '0',\n",
       "   'server': 'AmazonS3'},\n",
       "  'RetryAttempts': 0},\n",
       " 'Location': 'http://peckert-1374.s3.amazonaws.com/'}"
      ]
     },
     "execution_count": 72,
     "metadata": {},
     "output_type": "execute_result"
    }
   ],
   "source": [
    "s3 = boto3.client('s3',\n",
    "                 aws_access_key_id=AWS_KEY_ID,\n",
    "                 aws_secret_access_key=AWS_SECRET)\n",
    "s3.create_bucket(Bucket='peckert-1374',\n",
    "    CreateBucketConfiguration={'LocationConstraint': 'eu-central-1'})"
   ]
  },
  {
   "cell_type": "code",
   "execution_count": 73,
   "metadata": {},
   "outputs": [
    {
     "data": {
      "text/plain": [
       "botocore.client.S3"
      ]
     },
     "execution_count": 73,
     "metadata": {},
     "output_type": "execute_result"
    }
   ],
   "source": [
    "type(s3)"
   ]
  },
  {
   "cell_type": "code",
   "execution_count": 74,
   "metadata": {},
   "outputs": [
    {
     "name": "stdout",
     "output_type": "stream",
     "text": [
      "{'ResponseMetadata': {'RequestId': '29F5865B13F82ECD', 'HostId': 'hXKCjFiO/1gUVO/1gOKvKMIBxNSfPnXeqKDd9fZWpygGt6XH7OrIE3M0ofNx1zrcY+7w/wTsUEg=', 'HTTPStatusCode': 200, 'HTTPHeaders': {'x-amz-id-2': 'hXKCjFiO/1gUVO/1gOKvKMIBxNSfPnXeqKDd9fZWpygGt6XH7OrIE3M0ofNx1zrcY+7w/wTsUEg=', 'x-amz-request-id': '29F5865B13F82ECD', 'date': 'Mon, 26 Oct 2020 19:27:54 GMT', 'content-type': 'application/xml', 'transfer-encoding': 'chunked', 'server': 'AmazonS3'}, 'RetryAttempts': 0}, 'Buckets': [{'Name': 'cseng-1374-tuxedo', 'CreationDate': datetime.datetime(2020, 10, 26, 13, 41, 12, tzinfo=tzutc())}, {'Name': 'cseng-806', 'CreationDate': datetime.datetime(2020, 10, 21, 13, 23, 18, tzinfo=tzutc())}, {'Name': 'fsp-dojo-website', 'CreationDate': datetime.datetime(2020, 10, 22, 7, 45, 20, tzinfo=tzutc())}, {'Name': 'gim-1', 'CreationDate': datetime.datetime(2020, 10, 26, 16, 45, 31, tzinfo=tzutc())}, {'Name': 'gim-2', 'CreationDate': datetime.datetime(2020, 10, 26, 16, 45, 31, tzinfo=tzutc())}, {'Name': 'gim-3', 'CreationDate': datetime.datetime(2020, 10, 26, 16, 45, 32, tzinfo=tzutc())}, {'Name': 'gim-processedj', 'CreationDate': datetime.datetime(2020, 10, 26, 15, 40, 16, tzinfo=tzutc())}, {'Name': 'gim-stagingj', 'CreationDate': datetime.datetime(2020, 10, 26, 15, 40, 16, tzinfo=tzutc())}, {'Name': 'gim-testj', 'CreationDate': datetime.datetime(2020, 10, 26, 15, 40, 17, tzinfo=tzutc())}, {'Name': 'igoekce-806', 'CreationDate': datetime.datetime(2020, 10, 20, 13, 44, 59, tzinfo=tzutc())}, {'Name': 'igoekce-dojo', 'CreationDate': datetime.datetime(2020, 10, 22, 8, 4, 34, tzinfo=tzutc())}, {'Name': 'jgo1-processed', 'CreationDate': datetime.datetime(2020, 10, 26, 15, 21, 10, tzinfo=tzutc())}, {'Name': 'jgo1-staging', 'CreationDate': datetime.datetime(2020, 10, 26, 15, 21, 9, tzinfo=tzutc())}, {'Name': 'jpoliak-quest806', 'CreationDate': datetime.datetime(2020, 10, 20, 13, 7, 3, tzinfo=tzutc())}, {'Name': 'jpoliak-und-noch-mal', 'CreationDate': datetime.datetime(2020, 10, 26, 15, 30, 58, tzinfo=tzutc())}, {'Name': 'julian-yasin-julia', 'CreationDate': datetime.datetime(2020, 10, 22, 7, 40, 16, tzinfo=tzutc())}, {'Name': 'mpensel-boto', 'CreationDate': datetime.datetime(2020, 10, 26, 15, 27, 42, tzinfo=tzutc())}, {'Name': 'mpensel-test1', 'CreationDate': datetime.datetime(2020, 10, 20, 12, 54, 8, tzinfo=tzutc())}, {'Name': 'njeno-q806', 'CreationDate': datetime.datetime(2020, 10, 21, 6, 17, 41, tzinfo=tzutc())}, {'Name': 'peckert-1374', 'CreationDate': datetime.datetime(2020, 10, 26, 19, 27, 44, tzinfo=tzutc())}, {'Name': 'peckert-2', 'CreationDate': datetime.datetime(2020, 10, 26, 18, 22, 17, tzinfo=tzutc())}, {'Name': 'peckert-806', 'CreationDate': datetime.datetime(2020, 10, 20, 13, 35, 42, tzinfo=tzutc())}, {'Name': 'sagemaker-eu-central-1-310542687409', 'CreationDate': datetime.datetime(2020, 10, 22, 12, 56, 11, tzinfo=tzutc())}, {'Name': 'sharston-q806', 'CreationDate': datetime.datetime(2020, 10, 20, 14, 32, 36, tzinfo=tzutc())}, {'Name': 'wildcodeschool-s3-challenge-bucket', 'CreationDate': datetime.datetime(2020, 10, 26, 9, 30, 35, tzinfo=tzutc())}, {'Name': 'y-j-j-html', 'CreationDate': datetime.datetime(2020, 10, 22, 7, 50, 46, tzinfo=tzutc())}, {'Name': 'ye-1374', 'CreationDate': datetime.datetime(2020, 10, 26, 11, 6, 50, tzinfo=tzutc())}], 'Owner': {'DisplayName': 'pierre.mur', 'ID': 'd6f97ab5871f462137e7043dcbfa02ee49e47a229e29619a96fc69baeeef3798'}}\n",
      "\n",
      "Show all buckets starting with 'peckert' \n",
      "peckert-1374\n",
      "peckert-2\n",
      "peckert-806\n"
     ]
    }
   ],
   "source": [
    "# tell me bucket list\n",
    "response = s3.list_buckets()\n",
    "print(response)\n",
    "\n",
    "#tell me all names of existing buckets for bucket names starting with 'peckert'\n",
    "print(\"\\nShow all buckets starting with 'peckert' \")\n",
    "for bucket in response['Buckets']:\n",
    "    if bucket['Name'].startswith('peckert'):\n",
    "        print(bucket['Name'])"
   ]
  },
  {
   "cell_type": "code",
   "execution_count": 75,
   "metadata": {},
   "outputs": [
    {
     "name": "stdout",
     "output_type": "stream",
     "text": [
      "Bucket peckert-2 erfolgreich gelöscht!\n",
      "peckert-1374\n",
      "peckert-806\n"
     ]
    }
   ],
   "source": [
    "# delete buckets\n",
    "del_bucket='peckert-2'\n",
    "try:\n",
    "    s3.delete_bucket(Bucket=del_bucket)\n",
    "    print(f\"Bucket {del_bucket} erfolgreich gelöscht!\")\n",
    "except:\n",
    "    print(f\"Bucket {del_bucket} nicht gefunden!\")\n",
    "#show again buckets starting with 'peckert'\n",
    "for bucket in s3.list_buckets()['Buckets']:\n",
    "    if bucket['Name'].startswith('peckert'):\n",
    "        print(bucket['Name'])"
   ]
  },
  {
   "cell_type": "code",
   "execution_count": 76,
   "metadata": {
    "scrolled": true
   },
   "outputs": [],
   "source": [
    "#upload data\n",
    "s3.upload_file(Bucket='peckert-1374',\n",
    "        Filename='Presentation Fire.pptx',  \n",
    "        Key='Final_report project fire alert')"
   ]
  },
  {
   "cell_type": "code",
   "execution_count": 77,
   "metadata": {},
   "outputs": [
    {
     "name": "stdout",
     "output_type": "stream",
     "text": [
      "{'ResponseMetadata': {'RequestId': '8D98A7BE55230392', 'HostId': 'mZRnwHkLtWWvE16dCMvHHp7Tk/2hHnF0ZLSEPBXiX7ml0xvGf6ix5/r8lSGk5kvi8wqMLaTe+As=', 'HTTPStatusCode': 200, 'HTTPHeaders': {'x-amz-id-2': 'mZRnwHkLtWWvE16dCMvHHp7Tk/2hHnF0ZLSEPBXiX7ml0xvGf6ix5/r8lSGk5kvi8wqMLaTe+As=', 'x-amz-request-id': '8D98A7BE55230392', 'date': 'Mon, 26 Oct 2020 19:28:25 GMT', 'last-modified': 'Mon, 26 Oct 2020 19:28:19 GMT', 'etag': '\"673a63095abe73c00b2fe2088b1dbf9d\"', 'accept-ranges': 'bytes', 'content-type': 'binary/octet-stream', 'content-length': '2810806', 'server': 'AmazonS3'}, 'RetryAttempts': 0}, 'AcceptRanges': 'bytes', 'LastModified': datetime.datetime(2020, 10, 26, 19, 28, 19, tzinfo=tzutc()), 'ContentLength': 2810806, 'ETag': '\"673a63095abe73c00b2fe2088b1dbf9d\"', 'ContentType': 'binary/octet-stream', 'Metadata': {}}\n",
      "\n",
      "\n",
      "2810806\n"
     ]
    }
   ],
   "source": [
    "# size of uploaded file\n",
    "response = s3.head_object(Bucket='peckert-1374',\n",
    "                         Key='Final_report project fire alert')\n",
    "print(response)\n",
    "print()\n",
    "print()\n",
    "print(response['ContentLength'])"
   ]
  },
  {
   "cell_type": "code",
   "execution_count": 78,
   "metadata": {},
   "outputs": [],
   "source": [
    "def delete_file_on_s3(bucket,key):\n",
    "    s3 = boto3.resource('s3',\n",
    "                 aws_access_key_id=AWS_KEY_ID,\n",
    "                 aws_secret_access_key=AWS_SECRET)\n",
    "    obj = s3.Object(bucket, key)\n",
    "    obj.delete()"
   ]
  },
  {
   "cell_type": "code",
   "execution_count": 79,
   "metadata": {},
   "outputs": [],
   "source": [
    "# add backup file\n",
    "s3.upload_file(Bucket='peckert-1374',\n",
    "        Filename='Presentation Fire _Backup_.pptx',  \n",
    "        Key='Final_report project fire alert (Backup)')\n"
   ]
  },
  {
   "cell_type": "code",
   "execution_count": 80,
   "metadata": {},
   "outputs": [
    {
     "data": {
      "text/plain": [
       "botocore.client.S3"
      ]
     },
     "execution_count": 80,
     "metadata": {},
     "output_type": "execute_result"
    }
   ],
   "source": [
    "type(s3)"
   ]
  },
  {
   "cell_type": "code",
   "execution_count": 81,
   "metadata": {
    "scrolled": false
   },
   "outputs": [
    {
     "name": "stdout",
     "output_type": "stream",
     "text": [
      "s3.ObjectSummary(bucket_name='peckert-1374', key='Final_report project fire alert')\n",
      "s3.ObjectSummary(bucket_name='peckert-1374', key='Final_report project fire alert (Backup)')\n"
     ]
    }
   ],
   "source": [
    "# show content of bucket:\n",
    "s3 = boto3.resource('s3',\n",
    "                 aws_access_key_id=AWS_KEY_ID,\n",
    "                 aws_secret_access_key=AWS_SECRET)\n",
    "bucket_name='peckert-1374'\n",
    "bucket = s3.Bucket(name=bucket_name)\n",
    "for file in bucket.objects.all():\n",
    "    print(file)\n"
   ]
  },
  {
   "cell_type": "code",
   "execution_count": 82,
   "metadata": {},
   "outputs": [],
   "source": [
    "# delete original file\n",
    "delete_file='Final_report project fire alert'\n",
    "delete_file_on_s3('peckert-1374',delete_file)\n",
    "\n"
   ]
  },
  {
   "cell_type": "code",
   "execution_count": 83,
   "metadata": {},
   "outputs": [
    {
     "name": "stdout",
     "output_type": "stream",
     "text": [
      "content after deleting file {delete_file}\n",
      "s3.ObjectSummary(bucket_name='peckert-1374', key='Final_report project fire alert (Backup)')\n"
     ]
    }
   ],
   "source": [
    "# show content of bucket\n",
    "print(\"content after deleting file {delete_file}\")\n",
    "s3 = boto3.resource('s3',\n",
    "                 aws_access_key_id=AWS_KEY_ID,\n",
    "                 aws_secret_access_key=AWS_SECRET)\n",
    "bucket_name='peckert-1374'\n",
    "bucket = s3.Bucket(name=bucket_name)\n",
    "for file in bucket.objects.all():\n",
    "    print(file)"
   ]
  },
  {
   "cell_type": "code",
   "execution_count": 84,
   "metadata": {},
   "outputs": [
    {
     "name": "stdout",
     "output_type": "stream",
     "text": [
      "content after deleting 2. file\n"
     ]
    }
   ],
   "source": [
    "delete_file='Final_report project fire alert (Backup)'\n",
    "delete_file_on_s3('peckert-1374',delete_file)\n",
    "\n",
    "print(\"content after deleting 2. file\")\n",
    "s3 = boto3.resource('s3',\n",
    "                 aws_access_key_id=AWS_KEY_ID,\n",
    "                 aws_secret_access_key=AWS_SECRET)\n",
    "bucket_name='peckert-1374'\n",
    "bucket = s3.Bucket(name=bucket_name)\n",
    "for file in bucket.objects.all():\n",
    "    print(file)"
   ]
  },
  {
   "cell_type": "code",
   "execution_count": null,
   "metadata": {},
   "outputs": [],
   "source": []
  }
 ],
 "metadata": {
  "kernelspec": {
   "display_name": "Python 3",
   "language": "python",
   "name": "python3"
  },
  "language_info": {
   "codemirror_mode": {
    "name": "ipython",
    "version": 3
   },
   "file_extension": ".py",
   "mimetype": "text/x-python",
   "name": "python",
   "nbconvert_exporter": "python",
   "pygments_lexer": "ipython3",
   "version": "3.7.3"
  }
 },
 "nbformat": 4,
 "nbformat_minor": 2
}
